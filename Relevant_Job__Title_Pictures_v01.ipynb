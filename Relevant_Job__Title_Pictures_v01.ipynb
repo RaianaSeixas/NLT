{
  "nbformat": 4,
  "nbformat_minor": 0,
  "metadata": {
    "colab": {
      "provenance": [],
      "authorship_tag": "ABX9TyMmPOAFj7/zpE0ZYSPrCfBl",
      "include_colab_link": true
    },
    "kernelspec": {
      "name": "python3",
      "display_name": "Python 3"
    },
    "language_info": {
      "name": "python"
    }
  },
  "cells": [
    {
      "cell_type": "markdown",
      "metadata": {
        "id": "view-in-github",
        "colab_type": "text"
      },
      "source": [
        "<a href=\"https://colab.research.google.com/github/RaianaSeixas/NLT/blob/main/Relevant_Job__Title_Pictures_v01.ipynb\" target=\"_parent\"><img src=\"https://colab.research.google.com/assets/colab-badge.svg\" alt=\"Open In Colab\"/></a>"
      ]
    },
    {
      "cell_type": "markdown",
      "source": [
        "Describe...\n",
        "\n",
        "----------\n",
        "Author: Raiana Roland Seixas\n",
        "09/07/2022"
      ],
      "metadata": {
        "id": "WJb--sIgwspE"
      }
    },
    {
      "cell_type": "markdown",
      "source": [
        "# Data load & Libraries"
      ],
      "metadata": {
        "id": "JNid1Hd0yl0X"
      }
    },
    {
      "cell_type": "code",
      "source": [
        "import pandas as pd\n",
        "import numpy as np\n",
        "import seaborn as sns\n",
        "import matplotlib.pyplot as plt"
      ],
      "metadata": {
        "id": "v9Zz0XIExGgq"
      },
      "execution_count": 3,
      "outputs": []
    },
    {
      "cell_type": "code",
      "execution_count": 5,
      "metadata": {
        "colab": {
          "base_uri": "https://localhost:8080/"
        },
        "id": "34ZvAeHUuFOW",
        "outputId": "3b307483-2d77-48a0-a3cf-f6082e30deca"
      },
      "outputs": [
        {
          "output_type": "stream",
          "name": "stdout",
          "text": [
            "Cloning into 'NLT'...\n",
            "remote: Enumerating objects: 6, done.\u001b[K\n",
            "remote: Counting objects:  16% (1/6)\u001b[K\rremote: Counting objects:  33% (2/6)\u001b[K\rremote: Counting objects:  50% (3/6)\u001b[K\rremote: Counting objects:  66% (4/6)\u001b[K\rremote: Counting objects:  83% (5/6)\u001b[K\rremote: Counting objects: 100% (6/6)\u001b[K\rremote: Counting objects: 100% (6/6), done.\u001b[K\n",
            "remote: Compressing objects: 100% (6/6), done.\u001b[K\n",
            "remote: Total 6 (delta 0), reused 0 (delta 0), pack-reused 0\u001b[K\n",
            "Unpacking objects: 100% (6/6), done.\n",
            "/content/NLT/NLT\n"
          ]
        }
      ],
      "source": [
        "!git clone https://github.com/RaianaSeixas/NLT\n",
        "%cd NLT"
      ]
    },
    {
      "cell_type": "code",
      "source": [
        "df=pd.read_csv('occupation_pictures.csv')\n",
        "df.head()"
      ],
      "metadata": {
        "colab": {
          "base_uri": "https://localhost:8080/",
          "height": 372
        },
        "id": "CXxX2nnBx-l9",
        "outputId": "33703ca1-5276-4867-b485-8477068a8dbe"
      },
      "execution_count": 6,
      "outputs": [
        {
          "output_type": "execute_result",
          "data": {
            "text/plain": [
              "    Job Title                                  Pic Title  Num Resumes  \\\n",
              "0  3D Modeler  Our Top 19 3D Modeling Software Picks ...         1261   \n",
              "1  3D Modeler        7 Tips for Beginner 3D Modelers ...         1261   \n",
              "2  3D Modeler     How to Become an Expert 3D Modeler ...         1261   \n",
              "3  3D Modeler  What is 3D Modeling & What's It Used For?         1261   \n",
              "4  3D Modeler                   Shoofping 3D Modeler ...         1261   \n",
              "\n",
              "   Google Position  Strict Face Count  Relaxed Face Count     KB size  Height  \\\n",
              "0                0                  0                   7  276.763672    1917   \n",
              "1                1                  0                   3   44.343750     340   \n",
              "2                2                  0                   2   43.088867     380   \n",
              "3                3                  0                   2   78.623047     330   \n",
              "4                4                  0                   1   97.517578    1075   \n",
              "\n",
              "   Width  Resolution  Text Regions  \\\n",
              "0   2301     4411017             2   \n",
              "1    747      253980             5   \n",
              "2    660      250800             8   \n",
              "3    750      247500             1   \n",
              "4   1909     2052175             3   \n",
              "\n",
              "                                         Picture URL Manual Label  \n",
              "0  https://format-magazine-production-res.cloudin...          NaN  \n",
              "1  http://static1.squarespace.com/static/5320f582...          NaN  \n",
              "2  https://www.gamedesigning.org/wp-content/uploa...          NaN  \n",
              "3  https://cdn.conceptartempire.com/images/04/522...          NaN  \n",
              "4  http://shoofping.com/wp-content/uploads/2017/1...          NaN  "
            ],
            "text/html": [
              "\n",
              "  <div id=\"df-1a98e04d-84a6-40ed-8866-1a76207f7d4a\">\n",
              "    <div class=\"colab-df-container\">\n",
              "      <div>\n",
              "<style scoped>\n",
              "    .dataframe tbody tr th:only-of-type {\n",
              "        vertical-align: middle;\n",
              "    }\n",
              "\n",
              "    .dataframe tbody tr th {\n",
              "        vertical-align: top;\n",
              "    }\n",
              "\n",
              "    .dataframe thead th {\n",
              "        text-align: right;\n",
              "    }\n",
              "</style>\n",
              "<table border=\"1\" class=\"dataframe\">\n",
              "  <thead>\n",
              "    <tr style=\"text-align: right;\">\n",
              "      <th></th>\n",
              "      <th>Job Title</th>\n",
              "      <th>Pic Title</th>\n",
              "      <th>Num Resumes</th>\n",
              "      <th>Google Position</th>\n",
              "      <th>Strict Face Count</th>\n",
              "      <th>Relaxed Face Count</th>\n",
              "      <th>KB size</th>\n",
              "      <th>Height</th>\n",
              "      <th>Width</th>\n",
              "      <th>Resolution</th>\n",
              "      <th>Text Regions</th>\n",
              "      <th>Picture URL</th>\n",
              "      <th>Manual Label</th>\n",
              "    </tr>\n",
              "  </thead>\n",
              "  <tbody>\n",
              "    <tr>\n",
              "      <th>0</th>\n",
              "      <td>3D Modeler</td>\n",
              "      <td>Our Top 19 3D Modeling Software Picks ...</td>\n",
              "      <td>1261</td>\n",
              "      <td>0</td>\n",
              "      <td>0</td>\n",
              "      <td>7</td>\n",
              "      <td>276.763672</td>\n",
              "      <td>1917</td>\n",
              "      <td>2301</td>\n",
              "      <td>4411017</td>\n",
              "      <td>2</td>\n",
              "      <td>https://format-magazine-production-res.cloudin...</td>\n",
              "      <td>NaN</td>\n",
              "    </tr>\n",
              "    <tr>\n",
              "      <th>1</th>\n",
              "      <td>3D Modeler</td>\n",
              "      <td>7 Tips for Beginner 3D Modelers ...</td>\n",
              "      <td>1261</td>\n",
              "      <td>1</td>\n",
              "      <td>0</td>\n",
              "      <td>3</td>\n",
              "      <td>44.343750</td>\n",
              "      <td>340</td>\n",
              "      <td>747</td>\n",
              "      <td>253980</td>\n",
              "      <td>5</td>\n",
              "      <td>http://static1.squarespace.com/static/5320f582...</td>\n",
              "      <td>NaN</td>\n",
              "    </tr>\n",
              "    <tr>\n",
              "      <th>2</th>\n",
              "      <td>3D Modeler</td>\n",
              "      <td>How to Become an Expert 3D Modeler ...</td>\n",
              "      <td>1261</td>\n",
              "      <td>2</td>\n",
              "      <td>0</td>\n",
              "      <td>2</td>\n",
              "      <td>43.088867</td>\n",
              "      <td>380</td>\n",
              "      <td>660</td>\n",
              "      <td>250800</td>\n",
              "      <td>8</td>\n",
              "      <td>https://www.gamedesigning.org/wp-content/uploa...</td>\n",
              "      <td>NaN</td>\n",
              "    </tr>\n",
              "    <tr>\n",
              "      <th>3</th>\n",
              "      <td>3D Modeler</td>\n",
              "      <td>What is 3D Modeling &amp; What's It Used For?</td>\n",
              "      <td>1261</td>\n",
              "      <td>3</td>\n",
              "      <td>0</td>\n",
              "      <td>2</td>\n",
              "      <td>78.623047</td>\n",
              "      <td>330</td>\n",
              "      <td>750</td>\n",
              "      <td>247500</td>\n",
              "      <td>1</td>\n",
              "      <td>https://cdn.conceptartempire.com/images/04/522...</td>\n",
              "      <td>NaN</td>\n",
              "    </tr>\n",
              "    <tr>\n",
              "      <th>4</th>\n",
              "      <td>3D Modeler</td>\n",
              "      <td>Shoofping 3D Modeler ...</td>\n",
              "      <td>1261</td>\n",
              "      <td>4</td>\n",
              "      <td>0</td>\n",
              "      <td>1</td>\n",
              "      <td>97.517578</td>\n",
              "      <td>1075</td>\n",
              "      <td>1909</td>\n",
              "      <td>2052175</td>\n",
              "      <td>3</td>\n",
              "      <td>http://shoofping.com/wp-content/uploads/2017/1...</td>\n",
              "      <td>NaN</td>\n",
              "    </tr>\n",
              "  </tbody>\n",
              "</table>\n",
              "</div>\n",
              "      <button class=\"colab-df-convert\" onclick=\"convertToInteractive('df-1a98e04d-84a6-40ed-8866-1a76207f7d4a')\"\n",
              "              title=\"Convert this dataframe to an interactive table.\"\n",
              "              style=\"display:none;\">\n",
              "        \n",
              "  <svg xmlns=\"http://www.w3.org/2000/svg\" height=\"24px\"viewBox=\"0 0 24 24\"\n",
              "       width=\"24px\">\n",
              "    <path d=\"M0 0h24v24H0V0z\" fill=\"none\"/>\n",
              "    <path d=\"M18.56 5.44l.94 2.06.94-2.06 2.06-.94-2.06-.94-.94-2.06-.94 2.06-2.06.94zm-11 1L8.5 8.5l.94-2.06 2.06-.94-2.06-.94L8.5 2.5l-.94 2.06-2.06.94zm10 10l.94 2.06.94-2.06 2.06-.94-2.06-.94-.94-2.06-.94 2.06-2.06.94z\"/><path d=\"M17.41 7.96l-1.37-1.37c-.4-.4-.92-.59-1.43-.59-.52 0-1.04.2-1.43.59L10.3 9.45l-7.72 7.72c-.78.78-.78 2.05 0 2.83L4 21.41c.39.39.9.59 1.41.59.51 0 1.02-.2 1.41-.59l7.78-7.78 2.81-2.81c.8-.78.8-2.07 0-2.86zM5.41 20L4 18.59l7.72-7.72 1.47 1.35L5.41 20z\"/>\n",
              "  </svg>\n",
              "      </button>\n",
              "      \n",
              "  <style>\n",
              "    .colab-df-container {\n",
              "      display:flex;\n",
              "      flex-wrap:wrap;\n",
              "      gap: 12px;\n",
              "    }\n",
              "\n",
              "    .colab-df-convert {\n",
              "      background-color: #E8F0FE;\n",
              "      border: none;\n",
              "      border-radius: 50%;\n",
              "      cursor: pointer;\n",
              "      display: none;\n",
              "      fill: #1967D2;\n",
              "      height: 32px;\n",
              "      padding: 0 0 0 0;\n",
              "      width: 32px;\n",
              "    }\n",
              "\n",
              "    .colab-df-convert:hover {\n",
              "      background-color: #E2EBFA;\n",
              "      box-shadow: 0px 1px 2px rgba(60, 64, 67, 0.3), 0px 1px 3px 1px rgba(60, 64, 67, 0.15);\n",
              "      fill: #174EA6;\n",
              "    }\n",
              "\n",
              "    [theme=dark] .colab-df-convert {\n",
              "      background-color: #3B4455;\n",
              "      fill: #D2E3FC;\n",
              "    }\n",
              "\n",
              "    [theme=dark] .colab-df-convert:hover {\n",
              "      background-color: #434B5C;\n",
              "      box-shadow: 0px 1px 3px 1px rgba(0, 0, 0, 0.15);\n",
              "      filter: drop-shadow(0px 1px 2px rgba(0, 0, 0, 0.3));\n",
              "      fill: #FFFFFF;\n",
              "    }\n",
              "  </style>\n",
              "\n",
              "      <script>\n",
              "        const buttonEl =\n",
              "          document.querySelector('#df-1a98e04d-84a6-40ed-8866-1a76207f7d4a button.colab-df-convert');\n",
              "        buttonEl.style.display =\n",
              "          google.colab.kernel.accessAllowed ? 'block' : 'none';\n",
              "\n",
              "        async function convertToInteractive(key) {\n",
              "          const element = document.querySelector('#df-1a98e04d-84a6-40ed-8866-1a76207f7d4a');\n",
              "          const dataTable =\n",
              "            await google.colab.kernel.invokeFunction('convertToInteractive',\n",
              "                                                     [key], {});\n",
              "          if (!dataTable) return;\n",
              "\n",
              "          const docLinkHtml = 'Like what you see? Visit the ' +\n",
              "            '<a target=\"_blank\" href=https://colab.research.google.com/notebooks/data_table.ipynb>data table notebook</a>'\n",
              "            + ' to learn more about interactive tables.';\n",
              "          element.innerHTML = '';\n",
              "          dataTable['output_type'] = 'display_data';\n",
              "          await google.colab.output.renderOutput(dataTable, element);\n",
              "          const docLink = document.createElement('div');\n",
              "          docLink.innerHTML = docLinkHtml;\n",
              "          element.appendChild(docLink);\n",
              "        }\n",
              "      </script>\n",
              "    </div>\n",
              "  </div>\n",
              "  "
            ]
          },
          "metadata": {},
          "execution_count": 6
        }
      ]
    },
    {
      "cell_type": "markdown",
      "source": [
        "# Exploratory Analysis"
      ],
      "metadata": {
        "id": "cy920h25yvyg"
      }
    },
    {
      "cell_type": "code",
      "source": [],
      "metadata": {
        "id": "dZfP3OP8ywe_"
      },
      "execution_count": null,
      "outputs": []
    },
    {
      "cell_type": "code",
      "source": [],
      "metadata": {
        "id": "FNWF2W6ly9cH"
      },
      "execution_count": null,
      "outputs": []
    },
    {
      "cell_type": "markdown",
      "source": [
        "# Data Preprocessing"
      ],
      "metadata": {
        "id": "y4fO9kxxy-Lc"
      }
    },
    {
      "cell_type": "code",
      "source": [],
      "metadata": {
        "id": "Zk7tUJ0uzIQf"
      },
      "execution_count": null,
      "outputs": []
    },
    {
      "cell_type": "markdown",
      "source": [
        "# Predictive Model"
      ],
      "metadata": {
        "id": "9aXxUfHOy3za"
      }
    },
    {
      "cell_type": "code",
      "source": [],
      "metadata": {
        "id": "km72J2Egy5ce"
      },
      "execution_count": null,
      "outputs": []
    }
  ]
}